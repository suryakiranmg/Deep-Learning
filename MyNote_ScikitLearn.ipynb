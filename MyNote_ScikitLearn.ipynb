{
 "cells": [
  {
   "cell_type": "markdown",
   "id": "fbd230d1",
   "metadata": {},
   "source": [
    "# <font color=blue>Scikit Learn (Sklearn)</font>\n",
    "\n",
    "### <font color=green>For ML, has built-in models, data sets</font>\n",
    "### <font color=green>Built upon NumPy, SciPy & Matplotlib</font>\n",
    "\n",
    "https://scikit-learn.org/stable/tutorial/index.html"
   ]
  },
  {
   "cell_type": "code",
   "execution_count": null,
   "id": "2fe2f158",
   "metadata": {},
   "outputs": [],
   "source": []
  }
 ],
 "metadata": {
  "kernelspec": {
   "display_name": "Python 3 (ipykernel)",
   "language": "python",
   "name": "python3"
  },
  "language_info": {
   "codemirror_mode": {
    "name": "ipython",
    "version": 3
   },
   "file_extension": ".py",
   "mimetype": "text/x-python",
   "name": "python",
   "nbconvert_exporter": "python",
   "pygments_lexer": "ipython3",
   "version": "3.9.13"
  }
 },
 "nbformat": 4,
 "nbformat_minor": 5
}
