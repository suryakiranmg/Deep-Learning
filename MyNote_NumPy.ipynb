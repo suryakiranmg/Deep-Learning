{
 "cells": [
  {
   "cell_type": "markdown",
   "id": "e990b975",
   "metadata": {},
   "source": [
    "# <span style='color:blue'> <u>NumPy</u> <i>('NUM-erical PY-thon')</i> </span>"
   ]
  },
  {
   "cell_type": "code",
   "execution_count": 12,
   "id": "c72d2a0e",
   "metadata": {},
   "outputs": [
    {
     "name": "stdout",
     "output_type": "stream",
     "text": [
      "[[1 2 3]\n",
      " [4 5 6]\n",
      " [7 8 9]] \n",
      "\n",
      " [[8 3 2 2]\n",
      " [1 4 1 8]\n",
      " [9 9 6 1]]\n"
     ]
    }
   ],
   "source": [
    "import numpy as np\n",
    "mat1 = np.array([[1,2,3],[4,5,6],[7,8,9]])\n",
    "mat2 = np.random.randint(10,size=(3,4))     #Creates a 3x4 array of rand integers between [0,10)\n",
    "print(mat1,'\\n\\n',mat2)"
   ]
  },
  {
   "cell_type": "code",
   "execution_count": 24,
   "id": "84c887f1",
   "metadata": {
    "scrolled": true
   },
   "outputs": [
    {
     "name": "stdout",
     "output_type": "stream",
     "text": [
      " Mat2 dim: \t 2 \n",
      " Mat2 shape: \t (3, 4) \n",
      " Mat2 size: \t 12\n",
      " Mat2 DataType:  int32\n"
     ]
    }
   ],
   "source": [
    "print(\" Mat2 dim: \"'\\t',mat2.ndim,'\\n',\"Mat2 shape: \"'\\t',mat2.shape,'\\n', \"Mat2 size: \"'\\t',mat2.size)\n",
    "print(\" Mat2 DataType: \",mat2.dtype)"
   ]
  },
  {
   "cell_type": "markdown",
   "id": "1f106a86",
   "metadata": {},
   "source": [
    "## <span style='color:blue'> Array Indexing, Slicing, Reshaping & Concatenation </span>"
   ]
  },
  {
   "cell_type": "code",
   "execution_count": 28,
   "id": "7472f7c9",
   "metadata": {},
   "outputs": [
    {
     "data": {
      "text/plain": [
       "2"
      ]
     },
     "execution_count": 28,
     "metadata": {},
     "output_type": "execute_result"
    }
   ],
   "source": [
    "mat1[0,1]   #Element at 1st row,2nd column"
   ]
  },
  {
   "cell_type": "code",
   "execution_count": 29,
   "id": "748230e6",
   "metadata": {},
   "outputs": [
    {
     "data": {
      "text/plain": [
       "3"
      ]
     },
     "execution_count": 29,
     "metadata": {},
     "output_type": "execute_result"
    }
   ],
   "source": [
    "mat1[0,-1]   #Element at 1st row,last column"
   ]
  },
  {
   "cell_type": "code",
   "execution_count": 33,
   "id": "f669c754",
   "metadata": {},
   "outputs": [
    {
     "data": {
      "text/plain": [
       "array([[1, 2],\n",
       "       [4, 5]])"
      ]
     },
     "execution_count": 33,
     "metadata": {},
     "output_type": "execute_result"
    }
   ],
   "source": [
    "mat1[:2,:2]   #All elements till first 2 rows and 2 cloumns"
   ]
  },
  {
   "cell_type": "code",
   "execution_count": 38,
   "id": "0d3c84ae",
   "metadata": {},
   "outputs": [
    {
     "data": {
      "text/plain": [
       "array([[1, 3],\n",
       "       [4, 6]])"
      ]
     },
     "execution_count": 38,
     "metadata": {},
     "output_type": "execute_result"
    }
   ],
   "source": [
    "mat1[:2,::2]   #First 2 rows and every second column"
   ]
  },
  {
   "cell_type": "code",
   "execution_count": 40,
   "id": "1f1d77af",
   "metadata": {},
   "outputs": [
    {
     "data": {
      "text/plain": [
       "array([[8, 3, 2, 2, 1, 4],\n",
       "       [1, 8, 9, 9, 6, 1]])"
      ]
     },
     "execution_count": 40,
     "metadata": {},
     "output_type": "execute_result"
    }
   ],
   "source": [
    "mat2.reshape((2,6))"
   ]
  },
  {
   "cell_type": "code",
   "execution_count": 44,
   "id": "82846ce8",
   "metadata": {},
   "outputs": [
    {
     "data": {
      "text/plain": [
       "array([[1, 2, 3, 8, 3, 2, 2],\n",
       "       [4, 5, 6, 1, 4, 1, 8],\n",
       "       [7, 8, 9, 9, 9, 6, 1]])"
      ]
     },
     "execution_count": 44,
     "metadata": {},
     "output_type": "execute_result"
    }
   ],
   "source": [
    "# Horizontal Stacking\n",
    "np.hstack([mat1,mat2])"
   ]
  },
  {
   "cell_type": "code",
   "execution_count": 45,
   "id": "4b274316",
   "metadata": {},
   "outputs": [
    {
     "data": {
      "text/plain": [
       "array([[1, 2, 3],\n",
       "       [4, 5, 6],\n",
       "       [7, 8, 9],\n",
       "       [8, 3, 2],\n",
       "       [2, 1, 4],\n",
       "       [1, 8, 9],\n",
       "       [9, 6, 1]])"
      ]
     },
     "execution_count": 45,
     "metadata": {},
     "output_type": "execute_result"
    }
   ],
   "source": [
    "# Vertical Stacking\n",
    "np.vstack([mat1,mat2.reshape(4,3)])"
   ]
  },
  {
   "cell_type": "code",
   "execution_count": 59,
   "id": "a9cb945d",
   "metadata": {},
   "outputs": [
    {
     "name": "stdout",
     "output_type": "stream",
     "text": [
      "a1 :  [[8 3 2 2]\n",
      " [1 4 1 8]]\n",
      "a2 :  [[9 9 6 1]] \n",
      "\n",
      "[array([[8, 3],\n",
      "       [1, 4],\n",
      "       [9, 9]]), array([[2, 2],\n",
      "       [1, 8],\n",
      "       [6, 1]])]\n"
     ]
    }
   ],
   "source": [
    "# Splitting an array\n",
    "a =np.split(mat2,[2])\n",
    "print(\"a1 : \",a[0])\n",
    "print(\"a2 : \",a[1],\"\\n\")\n",
    "\n",
    "b = np.hsplit(mat2,[2])\n",
    "print(b)"
   ]
  },
  {
   "cell_type": "code",
   "execution_count": 63,
   "id": "1711bc19",
   "metadata": {},
   "outputs": [
    {
     "name": "stdout",
     "output_type": "stream",
     "text": [
      "Max Value:  9\n",
      "Cosine  [[-0.14550003 -0.9899925  -0.41614684 -0.41614684]\n",
      " [ 0.54030231 -0.65364362  0.54030231 -0.14550003]\n",
      " [-0.91113026 -0.91113026  0.96017029  0.54030231]]\n"
     ]
    }
   ],
   "source": [
    "# Useful functions\n",
    "print(\"Max Value: \",np.max(mat2))\n",
    "print(\"Cosine \",np.cos(mat2))"
   ]
  },
  {
   "cell_type": "code",
   "execution_count": 67,
   "id": "a9fffd52",
   "metadata": {},
   "outputs": [
    {
     "data": {
      "text/plain": [
       "array([12, 15, 18])"
      ]
     },
     "execution_count": 67,
     "metadata": {},
     "output_type": "execute_result"
    }
   ],
   "source": [
    "np.add.reduce(mat1) #Reduce to single row by adding all columns"
   ]
  },
  {
   "cell_type": "code",
   "execution_count": 66,
   "id": "530d96ef",
   "metadata": {},
   "outputs": [
    {
     "data": {
      "text/plain": [
       "array([ 28,  80, 162])"
      ]
     },
     "execution_count": 66,
     "metadata": {},
     "output_type": "execute_result"
    }
   ],
   "source": [
    "np.multiply.reduce(mat1)  #Reduce to single row by adding all columns"
   ]
  },
  {
   "cell_type": "code",
   "execution_count": 68,
   "id": "2a7acdea",
   "metadata": {},
   "outputs": [
    {
     "data": {
      "text/plain": [
       "45"
      ]
     },
     "execution_count": 68,
     "metadata": {},
     "output_type": "execute_result"
    }
   ],
   "source": [
    "np.sum(mat1) # Sum all elements"
   ]
  },
  {
   "cell_type": "markdown",
   "id": "059b9950",
   "metadata": {},
   "source": [
    "## <span style='color:blue'> Vector & Matrix Operations </span>"
   ]
  },
  {
   "cell_type": "code",
   "execution_count": 74,
   "id": "0ebc5111",
   "metadata": {},
   "outputs": [
    {
     "data": {
      "text/plain": [
       "array([[ 1,  4,  9],\n",
       "       [16, 25, 36],\n",
       "       [49, 64, 81]])"
      ]
     },
     "execution_count": 74,
     "metadata": {},
     "output_type": "execute_result"
    }
   ],
   "source": [
    "mat1 * mat1  # Element by Element Mul"
   ]
  },
  {
   "cell_type": "code",
   "execution_count": 75,
   "id": "22f094c6",
   "metadata": {},
   "outputs": [
    {
     "data": {
      "text/plain": [
       "array([[1, 4, 7],\n",
       "       [2, 5, 8],\n",
       "       [3, 6, 9]])"
      ]
     },
     "execution_count": 75,
     "metadata": {},
     "output_type": "execute_result"
    }
   ],
   "source": [
    "mat1.T    # Transpose"
   ]
  },
  {
   "cell_type": "code",
   "execution_count": 76,
   "id": "75349320",
   "metadata": {},
   "outputs": [
    {
     "data": {
      "text/plain": [
       "array([[ 37,  38,  22,  21],\n",
       "       [ 91,  86,  49,  54],\n",
       "       [145, 134,  76,  87]])"
      ]
     },
     "execution_count": 76,
     "metadata": {},
     "output_type": "execute_result"
    }
   ],
   "source": [
    "mat1@mat2  # (3x3) * (3x4) matrix mul"
   ]
  },
  {
   "cell_type": "code",
   "execution_count": 77,
   "id": "377856eb",
   "metadata": {},
   "outputs": [
    {
     "data": {
      "text/plain": [
       "78"
      ]
     },
     "execution_count": 77,
     "metadata": {},
     "output_type": "execute_result"
    }
   ],
   "source": [
    "np.dot(mat1[:,0],mat1[:,1]) # dot product of 2 column vectors"
   ]
  },
  {
   "cell_type": "code",
   "execution_count": 78,
   "id": "56a91256",
   "metadata": {},
   "outputs": [
    {
     "data": {
      "text/plain": [
       "array([[ 3.15251974e+15, -6.30503948e+15,  3.15251974e+15],\n",
       "       [-6.30503948e+15,  1.26100790e+16, -6.30503948e+15],\n",
       "       [ 3.15251974e+15, -6.30503948e+15,  3.15251974e+15]])"
      ]
     },
     "execution_count": 78,
     "metadata": {},
     "output_type": "execute_result"
    }
   ],
   "source": [
    "np.linalg.inv(mat1)  # matrix inverse"
   ]
  },
  {
   "cell_type": "code",
   "execution_count": 80,
   "id": "494c4fd9",
   "metadata": {},
   "outputs": [
    {
     "data": {
      "text/plain": [
       "2"
      ]
     },
     "execution_count": 80,
     "metadata": {},
     "output_type": "execute_result"
    }
   ],
   "source": [
    "np.linalg.matrix_rank(mat1)   # rank\n"
   ]
  },
  {
   "cell_type": "code",
   "execution_count": 83,
   "id": "d1612dcf",
   "metadata": {},
   "outputs": [
    {
     "name": "stdout",
     "output_type": "stream",
     "text": [
      "Eigen Values:  [ 1.61168440e+01 -1.11684397e+00 -3.38433605e-16]\n",
      "Eigen Vectors:  [[-0.23197069 -0.78583024  0.40824829]\n",
      " [-0.52532209 -0.08675134 -0.81649658]\n",
      " [-0.8186735   0.61232756  0.40824829]]\n"
     ]
    }
   ],
   "source": [
    "s,V = np.linalg.eig(mat1)\n",
    "print(\"Eigen Values: \",s)\n",
    "print(\"Eigen Vectors: \",V)"
   ]
  }
 ],
 "metadata": {
  "kernelspec": {
   "display_name": "Python 3 (ipykernel)",
   "language": "python",
   "name": "python3"
  },
  "language_info": {
   "codemirror_mode": {
    "name": "ipython",
    "version": 3
   },
   "file_extension": ".py",
   "mimetype": "text/x-python",
   "name": "python",
   "nbconvert_exporter": "python",
   "pygments_lexer": "ipython3",
   "version": "3.9.13"
  }
 },
 "nbformat": 4,
 "nbformat_minor": 5
}
