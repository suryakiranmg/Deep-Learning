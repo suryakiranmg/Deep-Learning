{
 "cells": [
  {
   "cell_type": "markdown",
   "id": "cf027028",
   "metadata": {},
   "source": [
    "# <span style='color:blue'> <u>PyTorch</u> <i> (ML framework based on Torch Library, used for CV & NLP)</i> </span>"
   ]
  },
  {
   "cell_type": "markdown",
   "id": "dfcbaac4",
   "metadata": {},
   "source": [
    "## <span style='color:green'> Top Deep Learning Frameworks</span>\n",
    "1. **TensorFlow** by Google Brain (Python,Cpp,R) Eg. Google Translate\n",
    "2. **Keras** (minimalist, part of TensorFlow core API)\n",
    "3. **mxnet** (Python,Cpp,R,Julia,Scala)\n",
    "4. **PyTorch** by Facebook (Python)\n",
    "5. **Caffe** (C, C++, Python, MATLAB, Command Line), high speed Eg.Vision Recognition\n",
    "6. **Microsoft Cognitive Toolkit(CNTK)** (Python, Cpp, Commandline) Eg.Image, handwriting & Speech Recognition\n",
    "7. **DL4J** Deep Learning for Java (JVM lang - Java, Scala, Clojure, Kotlin) Eg. Image recog, fraud detect, Text-mining, NLP\n",
    "8. **ONNX** Open Neural Network Exchange, by Microsoft & FB\n",
    "9. **MATLAB – Deep Learning Toolbox** (c,cpp,Java, MATLAB)\n"
   ]
  },
  {
   "cell_type": "markdown",
   "id": "200596c8",
   "metadata": {},
   "source": [
    "### **Tensor of Order 1  --  Vector**\n",
    "### **Tensor of Order 2  --  Matrix**\n",
    "### **Tensor of Order 3  --  Box/Cube**\n",
    "### **Tensor of Order n  --  Hyperbox\\Hypercube**"
   ]
  },
  {
   "cell_type": "code",
   "execution_count": 3,
   "id": "224caa9e",
   "metadata": {},
   "outputs": [],
   "source": [
    "import numpy as np\n",
    "import torch\n",
    "import matplotlib.pyplot as plt"
   ]
  },
  {
   "cell_type": "code",
   "execution_count": 6,
   "id": "94082618",
   "metadata": {},
   "outputs": [
    {
     "name": "stdout",
     "output_type": "stream",
     "text": [
      "tensor([[0.9924, 0.7195, 0.4345],\n",
      "        [0.3353, 0.7922, 0.0850],\n",
      "        [0.4383, 0.6837, 0.8198],\n",
      "        [0.9175, 0.0901, 0.6725]])\n"
     ]
    }
   ],
   "source": [
    "x = torch.rand(4, 3)\n",
    "print(x)"
   ]
  },
  {
   "cell_type": "code",
   "execution_count": 18,
   "id": "158bc86a",
   "metadata": {},
   "outputs": [
    {
     "name": "stdout",
     "output_type": "stream",
     "text": [
      "Result: y = -0.0018277362687513232 + 0.8629119396209717 X + 0.0003153153520543128 X^2 + -0.09420817345380783 X^3\n"
     ]
    }
   ],
   "source": [
    "# Use of PyTorch Tensors to fit a third order polynomial to sine function\n",
    "\n",
    "import torch\n",
    "import math\n",
    "\n",
    "dtype = torch.float\n",
    "device = torch.device(\"cpu\")\n",
    "# device = torch.device(\"cuda:0\") # Uncomment this to run on GPU\n",
    "\n",
    "# Create random input and output data\n",
    "x = torch.linspace(-math.pi, math.pi, 2000, device=device, dtype=dtype)\n",
    "y = torch.sin(x)\n",
    "\n",
    "# Randomly initialize weights\n",
    "a = torch.randn((), device=device, dtype=dtype)\n",
    "b = torch.randn((), device=device, dtype=dtype)\n",
    "c = torch.randn((), device=device, dtype=dtype)\n",
    "d = torch.randn((), device=device, dtype=dtype)\n",
    "\n",
    "learning_rate = 1e-6\n",
    "for t in range(2000):\n",
    "    # Forward pass: compute predicted y\n",
    "    y_pred = a + b * x + c * x ** 2 + d * x ** 3\n",
    "\n",
    "    # Compute and print loss\n",
    "    loss = (y_pred - y).pow(2).sum().item()\n",
    "   # if t % 100 == 99:\n",
    "        #print(t, loss)\n",
    "\n",
    "    # Backprop to compute gradients of a, b, c, d with respect to loss\n",
    "    grad_y_pred = 2.0 * (y_pred - y)\n",
    "    grad_a = grad_y_pred.sum()\n",
    "    grad_b = (grad_y_pred * x).sum()\n",
    "    grad_c = (grad_y_pred * x ** 2).sum()\n",
    "    grad_d = (grad_y_pred * x ** 3).sum()\n",
    "\n",
    "    # Update weights using gradient descent\n",
    "    a -= learning_rate * grad_a\n",
    "    b -= learning_rate * grad_b\n",
    "    c -= learning_rate * grad_c\n",
    "    d -= learning_rate * grad_d\n",
    "\n",
    "\n",
    "print(f'Result: y = {a.item()} + {b.item()} X + {c.item()} X^2 + {d.item()} X^3')\n"
   ]
  },
  {
   "cell_type": "code",
   "execution_count": 35,
   "id": "2152f40b",
   "metadata": {},
   "outputs": [
    {
     "name": "stdout",
     "output_type": "stream",
     "text": [
      "tensor([[ 0.7494, -0.7915, -1.4652],\n",
      "        [-1.4576, -1.7870, -0.4322]])\n",
      "tensor([[ 0.7494, -0.7915, -1.4652, -1.4576, -1.7870, -0.4322]])\n",
      "torch.Size([2, 3])\n",
      "tensor([[ 1.7494,  0.2085, -0.4652],\n",
      "        [-0.4576, -0.7870,  0.5678]])\n"
     ]
    }
   ],
   "source": [
    "# Reshaping a Tensor\n",
    "import numpy as np\n",
    "import torch\n",
    "import matplotlib.pyplot as plt\n",
    "\n",
    "x=torch.randn(2,3)\n",
    "print(x)\n",
    "print(x.view(1,6)) \n",
    "\n",
    "print(x.size())\n",
    "\n",
    "# Methods that mutate tensor has an underscore suffix\n",
    "x.add_(torch.ones(2,3)) \n",
    "print(x)"
   ]
  },
  {
   "cell_type": "code",
   "execution_count": 36,
   "id": "eb3d0a4f",
   "metadata": {},
   "outputs": [
    {
     "data": {
      "text/plain": [
       "tensor([[1.7494, 0.2085, 0.4652],\n",
       "        [0.4576, 0.7870, 0.5678]])"
      ]
     },
     "execution_count": 36,
     "metadata": {},
     "output_type": "execute_result"
    }
   ],
   "source": [
    "torch.FloatTensor.abs(x)  # Doesn not modify x, but computes in anew tensor"
   ]
  },
  {
   "cell_type": "code",
   "execution_count": 37,
   "id": "42af6ec1",
   "metadata": {},
   "outputs": [
    {
     "name": "stdout",
     "output_type": "stream",
     "text": [
      "tensor([[ 1.7494,  0.2085, -0.4652],\n",
      "        [-0.4576, -0.7870,  0.5678]])\n"
     ]
    },
    {
     "data": {
      "text/plain": [
       "tensor([[1.7494, 0.2085, 0.4652],\n",
       "        [0.4576, 0.7870, 0.5678]])"
      ]
     },
     "execution_count": 37,
     "metadata": {},
     "output_type": "execute_result"
    }
   ],
   "source": [
    "print(x)\n",
    "torch.FloatTensor.abs_(x)  # modifies x in place"
   ]
  },
  {
   "cell_type": "markdown",
   "id": "8a2cbb52",
   "metadata": {},
   "source": [
    " ### <span style='color:blue'> Indexing & Slicing of Tensor Elements </span>"
   ]
  },
  {
   "cell_type": "code",
   "execution_count": 40,
   "id": "6e8babaa",
   "metadata": {},
   "outputs": [
    {
     "data": {
      "text/plain": [
       "(tensor(2), tensor(3), tensor(4))"
      ]
     },
     "execution_count": 40,
     "metadata": {},
     "output_type": "execute_result"
    }
   ],
   "source": [
    "x = torch.tensor([[1,2,3],[4,5,6]])\n",
    "x[0][1], x[0][2], x[1][0]"
   ]
  },
  {
   "cell_type": "code",
   "execution_count": 41,
   "id": "81f267d8",
   "metadata": {},
   "outputs": [
    {
     "data": {
      "text/plain": [
       "(tensor([1, 2, 3]), tensor([2, 5]))"
      ]
     },
     "execution_count": 41,
     "metadata": {},
     "output_type": "execute_result"
    }
   ],
   "source": [
    "x[0], x[:,1]"
   ]
  },
  {
   "cell_type": "code",
   "execution_count": 43,
   "id": "c324fbc7",
   "metadata": {},
   "outputs": [
    {
     "data": {
      "text/plain": [
       "4"
      ]
     },
     "execution_count": 43,
     "metadata": {},
     "output_type": "execute_result"
    }
   ],
   "source": [
    "x = torch.tensor(4)\n",
    "x.item()    # To get data from a single value tensor"
   ]
  },
  {
   "cell_type": "code",
   "execution_count": 51,
   "id": "80ff96bd",
   "metadata": {},
   "outputs": [
    {
     "name": "stdout",
     "output_type": "stream",
     "text": [
      "tensor([[1.5031, 0.6730],\n",
      "        [1.1890, 1.8791]])\n",
      "tensor([[1.5031, 0.6730],\n",
      "        [1.1890, 1.8791]], dtype=torch.float64)\n"
     ]
    }
   ],
   "source": [
    "# Changing Data type\n",
    "x = torch.randn(2,2)    # Initially dtype = float32 (default), device = cpu\n",
    "print(x)\n",
    "print(x.to(torch.float64))     # changing data type"
   ]
  },
  {
   "cell_type": "code",
   "execution_count": 61,
   "id": "34e208ca",
   "metadata": {},
   "outputs": [
    {
     "name": "stdout",
     "output_type": "stream",
     "text": [
      "cuda no\n"
     ]
    },
    {
     "data": {
      "text/plain": [
       "tensor([[1.5031, 0.6730],\n",
       "        [1.1890, 1.8791]])"
      ]
     },
     "execution_count": 61,
     "metadata": {},
     "output_type": "execute_result"
    }
   ],
   "source": [
    "if torch.cuda.is_available():\n",
    "    x=10*x.cuda()\n",
    "    print(\"cuda yes\")\n",
    "else:\n",
    "    print(\"cuda no\")\n",
    "x.cpu()\n"
   ]
  },
  {
   "cell_type": "code",
   "execution_count": 63,
   "id": "eb6b1b19",
   "metadata": {},
   "outputs": [
    {
     "name": "stdout",
     "output_type": "stream",
     "text": [
      "tensor([[0.9619, 0.4541, 0.2652],\n",
      "        [0.6046, 0.6109, 0.2612],\n",
      "        [0.7941, 0.0466, 0.0825],\n",
      "        [0.3111, 0.1079, 0.7761],\n",
      "        [0.6029, 0.8659, 0.3349]])\n",
      "[[0.9619485  0.45410228 0.26516333]\n",
      " [0.60457665 0.61087847 0.26118985]\n",
      " [0.794105   0.04655844 0.08250754]\n",
      " [0.31105056 0.10793324 0.77607375]\n",
      " [0.60292536 0.86588484 0.33486098]]\n",
      "torch.Size([5, 3])\n",
      "torch.Size([5, 3])\n",
      "(5, 3)\n"
     ]
    }
   ],
   "source": [
    "# NumPy Array to Torch tensor and Vice versa\n",
    "a = np.random.rand(5,3)\n",
    "b = torch.Tensor(a)   #---torch\n",
    "print(b)\n",
    "a = b.numpy()\n",
    "print(a)  #---numpy\n",
    "print(b.size())\n",
    "print(b.shape)\n",
    "print(a.shape)"
   ]
  },
  {
   "cell_type": "code",
   "execution_count": 65,
   "id": "043a82c8",
   "metadata": {},
   "outputs": [
    {
     "name": "stdout",
     "output_type": "stream",
     "text": [
      "tensor([[ 0.7197, -1.4941, -0.0624,  0.9473, -0.8516],\n",
      "        [ 0.6845, -1.6176,  0.1721,  0.8909, -0.5531],\n",
      "        [ 0.3969, -0.5766, -0.2931,  0.4670, -0.6137],\n",
      "        [-0.4259,  0.0709,  0.4404,  0.5602, -1.4928],\n",
      "        [ 0.8659, -2.1484,  0.3382,  1.1214, -0.5654]])\n"
     ]
    }
   ],
   "source": [
    "c = torch.randn(3,5)\n",
    "mul = b@c\n",
    "print(mul)"
   ]
  },
  {
   "cell_type": "code",
   "execution_count": 68,
   "id": "48727565",
   "metadata": {},
   "outputs": [
    {
     "name": "stdout",
     "output_type": "stream",
     "text": [
      "tensor([[[[[1., 1., 1., 1.]],\n",
      "\n",
      "          [[1., 1., 1., 1.]]]],\n",
      "\n",
      "\n",
      "\n",
      "        [[[[1., 1., 1., 1.]],\n",
      "\n",
      "          [[1., 1., 1., 1.]]]],\n",
      "\n",
      "\n",
      "\n",
      "        [[[[1., 1., 1., 1.]],\n",
      "\n",
      "          [[1., 1., 1., 1.]]]],\n",
      "\n",
      "\n",
      "\n",
      "        [[[[1., 1., 1., 1.]],\n",
      "\n",
      "          [[1., 1., 1., 1.]]]],\n",
      "\n",
      "\n",
      "\n",
      "        [[[[1., 1., 1., 1.]],\n",
      "\n",
      "          [[1., 1., 1., 1.]]]]])\n"
     ]
    },
    {
     "data": {
      "text/plain": [
       "torch.Size([5, 1, 2, 1, 4])"
      ]
     },
     "execution_count": 68,
     "metadata": {},
     "output_type": "execute_result"
    }
   ],
   "source": [
    "x= torch.ones(5,1,2,1,4)  # creates a 5-D tensor\n",
    "print(x)\n",
    "x.size()"
   ]
  },
  {
   "cell_type": "code",
   "execution_count": 69,
   "id": "6b03b721",
   "metadata": {},
   "outputs": [
    {
     "name": "stdout",
     "output_type": "stream",
     "text": [
      "tensor([[[1., 1., 1., 1.],\n",
      "         [1., 1., 1., 1.]],\n",
      "\n",
      "        [[1., 1., 1., 1.],\n",
      "         [1., 1., 1., 1.]],\n",
      "\n",
      "        [[1., 1., 1., 1.],\n",
      "         [1., 1., 1., 1.]],\n",
      "\n",
      "        [[1., 1., 1., 1.],\n",
      "         [1., 1., 1., 1.]],\n",
      "\n",
      "        [[1., 1., 1., 1.],\n",
      "         [1., 1., 1., 1.]]])\n"
     ]
    },
    {
     "data": {
      "text/plain": [
       "torch.Size([5, 2, 4])"
      ]
     },
     "execution_count": 69,
     "metadata": {},
     "output_type": "execute_result"
    }
   ],
   "source": [
    "y = torch.squeeze(x) # Squeezes out Dimesions of just size 1\n",
    "print(y)\n",
    "y.size()"
   ]
  },
  {
   "cell_type": "code",
   "execution_count": 70,
   "id": "b47fa85f",
   "metadata": {},
   "outputs": [
    {
     "data": {
      "text/plain": [
       "torch.Size([5, 1, 2, 4])"
      ]
     },
     "execution_count": 70,
     "metadata": {},
     "output_type": "execute_result"
    }
   ],
   "source": [
    "y = torch.squeeze(x,3)  # Removes the 3rd Dimension\n",
    "y.size()"
   ]
  },
  {
   "cell_type": "code",
   "execution_count": 71,
   "id": "e47877e3",
   "metadata": {},
   "outputs": [
    {
     "data": {
      "text/plain": [
       "torch.Size([5, 1, 2, 1, 4])"
      ]
     },
     "execution_count": 71,
     "metadata": {},
     "output_type": "execute_result"
    }
   ],
   "source": [
    "z = torch.unsqueeze(y,3)  # Inserts a Dimension of 1 at the 3-rd index\n",
    "z.size()"
   ]
  },
  {
   "cell_type": "code",
   "execution_count": 72,
   "id": "ac0c0cf1",
   "metadata": {},
   "outputs": [
    {
     "data": {
      "text/plain": [
       "tensor([ True, False, False,  True])"
      ]
     },
     "execution_count": 72,
     "metadata": {},
     "output_type": "execute_result"
    }
   ],
   "source": [
    "# Checking for Element-wise Equality\n",
    "a = torch.Tensor([1,2,3,1])\n",
    "b = torch.ones(4)\n",
    "torch.eq(a,b)"
   ]
  },
  {
   "cell_type": "code",
   "execution_count": 82,
   "id": "ae85a819",
   "metadata": {},
   "outputs": [
    {
     "name": "stdout",
     "output_type": "stream",
     "text": [
      "tensor([1, 2, 3, 4])\n",
      "tensor([ 1.5896, -0.6798,  0.1966, -0.2924])\n"
     ]
    },
    {
     "data": {
      "text/plain": [
       "tensor([1, 0, 0, 0])"
      ]
     },
     "execution_count": 82,
     "metadata": {},
     "output_type": "execute_result"
    }
   ],
   "source": [
    "a = torch.tensor([1,2,3,4])\n",
    "print(a)\n",
    "b = torch.randn(4)\n",
    "print(b)\n",
    "b.type_as(a)   # Match data type of Tensor to that of another tensor"
   ]
  },
  {
   "cell_type": "code",
   "execution_count": null,
   "id": "8caad4f9",
   "metadata": {},
   "outputs": [],
   "source": []
  }
 ],
 "metadata": {
  "kernelspec": {
   "display_name": "Python 3 (ipykernel)",
   "language": "python",
   "name": "python3"
  },
  "language_info": {
   "codemirror_mode": {
    "name": "ipython",
    "version": 3
   },
   "file_extension": ".py",
   "mimetype": "text/x-python",
   "name": "python",
   "nbconvert_exporter": "python",
   "pygments_lexer": "ipython3",
   "version": "3.9.13"
  }
 },
 "nbformat": 4,
 "nbformat_minor": 5
}
